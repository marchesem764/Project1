{
  "cells": [
    {
      "cell_type": "markdown",
      "source": [
        "# Will it be an early Spring?\n",
        "\n",
        "On February 2<sup>nd</sup> every year Punxsutawney Phil makes a prediction about if there will be an early Spring or if Winter will continue for 6 more weeks (till about mid-March). He is however not very accurate (well, according to [The Inner Circle](https://www.groundhog.org/inner-circle) he is 100% correct but the human handler may not interpret his response correctly). The overall goal is to be able to predict if it will be an early Spring.\n",
        "\n",
        "For this project you must go through most steps in the checklist. You must write responses for all items however sometimes the item will simply be \"does not apply\". Some of the parts are a bit more nebulous and you simply show that you have done things in general (and the order doesn't really matter). Keep your progress and thoughts organized in this document and use formatting as appropriate (using markdown to add headers and sub-headers for each major part). Do not do the final part (launching the product) and your presentation will be done as information written in this document in a dedicated section, no slides or anything like that. It should however include the best summary plots/graphics/data points.\n",
        "\n",
        "You are intentionally given very little information thus far. You must communicate with your client (me) for additional information as necessary. But also make sure that your communications are efficient, thought out, and not redundant as your client might get frustrated and \"fire\" you (this only applies to getting information from your client, this does not necessary apply to asking for help with the actual project itself).\n",
        "\n",
        "Each group from 200-level and 300-level sections with the best results on the 10% of the data that I kept for myself will earn +5 extra credit (if multiple groups are close points may be given to multiple groups)."
      ],
      "metadata": {
        "colab_type": "text",
        "id": "zqJqmZ_GHf63"
      }
    },
    {
      "cell_type": "markdown",
      "source": [
        "Frame The Problem\n",
        "----"
      ],
      "metadata": {}
    },
    {
      "cell_type": "markdown",
      "source": [
        "**1. Define the objective in business terms.**  \n",
        "    ACME Seed company is trying to understand weather patterns for their new corn seed product. The company needs to guarantee if there will be an early spring based upon the farmers product yield. If weather permitting, the farmers can get 2 full harvests with the ACME corn seeds. Our objective is to understand when there will be an early spring and when there won't be.  \n",
        "    \n",
        "**2. How will your solution be used?**  \n",
        "    If our model can successfully predict if there will be an early spring (before March 15th) the company will be able to send out a guarantee for the seeds making sales flourish.\n",
        "\n",
        "**3. What are the current solutions/workarounds (if any)?**   \n",
        "    Current solutions to knowing about early springs are very iffy. Weather is an always changing and hard to calculate thing. We are currently using Farmer's Almanacs, Meterologist Models, and Groundhogs to predict weather trends.  \n",
        "\n",
        "**4. How should you frame this problem (supervised/unsupervised, online/offline, ...)?**  \n",
        "    This is going to be a Supervised (Regression Based) problem with a most likely offline system. Supervised because of the historical data being put into our model and Regression based because of the dynamic changing rates of weather patterns. On top of this for the moment we are keeping it to an offline system because of the not needed constant input of new data to update.  \n",
        "\n",
        "**5. How should performance be measured? Is the performance measure aligned with the business objective?**   \n",
        "    Based on the ideology that we will be trying to guarantee ACME seeds that there will be an early spring. Performance will be measured by the Recall score of our model because of the True Positive nature that guarantees a result. We will disregard false negatives and say with 100% certainty that True Positives will be the best results for both the Company and the Farmers.  \n",
        "\n",
        "**6. What would be the minimum performance needed to reach the business objective?**  \n",
        "    Guaranteed Early Springs with very high certainty. There is a slight tolerance for error in missing a few early springs, but in contrast to that we do not want to inform the company that there will be an early spring if it actually in reality is still winter. No direct miminum performance has been classified but we hold high standards.  \n",
        "\n",
        "**7. What are comparable problems? Can you reuse experience or tools?**  \n",
        "    There are instances in other weather machine learning problems that could be useful such as prediciting percipitation patterns, but other than that not too much direct comparisons.  \n",
        "\n",
        "**8. Is human expertise available?**     \n",
        "    Humans on their own have almost no ability to be able to predict the weather. there may be Meterologist who know a bit more but prediciting a whole season is not an easy feat.  \n",
        "\n",
        "**9. How would you solve the problem manually?**  \n",
        "    This is definetly not a problem that is a good one to try and solve manually. You can really dedicate your life to understanding weather patterns and logging them, but machine learning is the best way to go about this problem.  \n",
        "    \n",
        "**10. List the assumptions you (or others) have made so far. Verify assumptions if possible.**  \n",
        "    One assumption could be that we need to wait at least until the beginning of february every year to make the prediction. We must also assume that march 15th will be the date of guarantee every year.  \n",
        "    "
      ],
      "metadata": {}
    },
    {
      "cell_type": "code",
      "execution_count": 1,
      "source": [
        "import numpy as np\n",
        "import matplotlib.pylab as plt\n",
        "import pandas as pd\n",
        "import scipy as sp\n",
        "import seaborn as sns\n",
        "\n",
        "from sklearn import datasets\n",
        "from sklearn.model_selection import train_test_split, cross_val_score\n",
        "\n",
        "from sklearn.linear_model import LogisticRegression\n",
        "from sklearn.svm import SVC\n",
        "from sklearn.ensemble import RandomForestClassifier, ExtraTreesClassifier\n",
        "from sklearn.tree import DecisionTreeClassifier\n",
        "\n",
        "from sklearn.ensemble import VotingClassifier, BaggingClassifier, AdaBoostClassifier, GradientBoostingRegressor, StackingClassifier\n",
        "\n",
        "from sklearn.metrics import accuracy_score, mean_squared_error"
      ],
      "outputs": [],
      "metadata": {}
    },
    {
      "cell_type": "markdown",
      "source": [
        "Get the Data\n",
        "--"
      ],
      "metadata": {}
    },
    {
      "cell_type": "markdown",
      "source": [
        "**1. List the data you need and how much you need**  \n",
        "We need data from January 1st to February 2nd. The data needs to be for each day. The data must contain as many features relevant to the weather as possible. We also need to know which years in the past were early springs or not. Our data should go back as far as possible.  \n",
        "\n",
        "**2. Find and document where you can get that data**  \n",
        "Done. Provided by an intern.  \n",
        "\n",
        "**3. Get access authorizations**  \n",
        "Done.  \n",
        "\n",
        "**4. Create a workspace (with enough storage space)**  \n",
        "Done. Visual Studio Code Jupyter Notebooks\n",
        "\n",
        "**5. Get the data**  \n",
        "Done.  \n",
        "\n",
        "**6. Convert the data to a format you can easily manipulate (without changing the data itself)**"
      ],
      "metadata": {}
    },
    {
      "cell_type": "code",
      "execution_count": 2,
      "source": [
        "def load_weather_data():\n",
        "    \"\"\"\n",
        "    Loads the CSV file which contains our data for weather.\n",
        "    \"\"\"\n",
        "    return pd.read_csv('weather.csv')"
      ],
      "outputs": [],
      "metadata": {
        "colab": {},
        "colab_type": "code",
        "id": "KXHscaEWHU3A"
      }
    },
    {
      "cell_type": "code",
      "execution_count": 3,
      "source": [
        "def load_phil_data():\n",
        "    \"\"\"\n",
        "    Loads the CSV file which contains our data for phil's predictions.\n",
        "    \"\"\"\n",
        "    return pd.read_csv('phil_pred.csv')"
      ],
      "outputs": [],
      "metadata": {}
    },
    {
      "cell_type": "code",
      "execution_count": 4,
      "source": [
        "def load_spring_data():\n",
        "    \"\"\"\n",
        "    Loads the CSV file which contains our data for actuality of season.\n",
        "    \"\"\"\n",
        "    return pd.read_csv('early_spring.csv')"
      ],
      "outputs": [],
      "metadata": {}
    },
    {
      "cell_type": "code",
      "execution_count": 5,
      "source": [
        "weather_data = load_weather_data()\n",
        "phil_data = load_phil_data()\n",
        "spring_data = load_spring_data()"
      ],
      "outputs": [],
      "metadata": {}
    },
    {
      "cell_type": "markdown",
      "source": [
        "**7. Ensure sensitive information is deleted or protected (e.g. anonymized)**   \n",
        "Not needed.\n",
        "\n",
        "**8. Check the size and type of data (time series, geographical, ...)**  \n",
        "weather_data:\n",
        "We have 7 features, 6 of which are floats. The date feature is a string. There are 2211 entries in total.\n",
        "\n",
        "phil_data (groundhog's predictions):\n",
        "There are 2 features. One is an int and the other is a bool. There are 60 entries in total.\n",
        "\n",
        "spring_data (which years were early spring):\n",
        "There are 2 features. One is an int and the other is a bool. There are 67 entries in total.\n"
      ],
      "metadata": {}
    },
    {
      "cell_type": "code",
      "execution_count": 6,
      "source": [
        "weather_data.info()\n",
        "weather_data.describe()"
      ],
      "outputs": [
        {
          "output_type": "stream",
          "name": "stdout",
          "text": [
            "<class 'pandas.core.frame.DataFrame'>\n",
            "RangeIndex: 2211 entries, 0 to 2210\n",
            "Data columns (total 7 columns):\n",
            " #   Column         Non-Null Count  Dtype  \n",
            "---  ------         --------------  -----  \n",
            " 0   date           2211 non-null   object \n",
            " 1   max_temp       2167 non-null   float64\n",
            " 2   min_temp       2170 non-null   float64\n",
            " 3   avg_temp       2160 non-null   float64\n",
            " 4   precipitation  2208 non-null   float64\n",
            " 5   snowfall       2198 non-null   float64\n",
            " 6   snowdepth      2174 non-null   float64\n",
            "dtypes: float64(6), object(1)\n",
            "memory usage: 121.0+ KB\n"
          ]
        },
        {
          "output_type": "execute_result",
          "data": {
            "text/plain": [
              "          max_temp     min_temp     avg_temp  precipitation     snowfall  \\\n",
              "count  2167.000000  2170.000000  2160.000000    2208.000000  2198.000000   \n",
              "mean     36.191970    18.410138    27.284028       0.111475     0.463889   \n",
              "std      12.252389    12.755078    11.704472       0.228599     1.196003   \n",
              "min      -6.000000   -26.000000   -15.000000       0.000000     0.000000   \n",
              "25%      28.000000    10.000000    19.375000       0.000000     0.000000   \n",
              "50%      36.000000    20.000000    28.000000       0.010000     0.000000   \n",
              "75%      44.000000    28.000000    35.125000       0.120000     0.500000   \n",
              "max      75.000000    51.000000    60.000000       2.560000    21.000000   \n",
              "\n",
              "         snowdepth  \n",
              "count  2174.000000  \n",
              "mean      2.503059  \n",
              "std       4.282987  \n",
              "min       0.000000  \n",
              "25%       0.000000  \n",
              "50%       1.000000  \n",
              "75%       3.000000  \n",
              "max      30.000000  "
            ],
            "text/html": [
              "<div>\n",
              "<style scoped>\n",
              "    .dataframe tbody tr th:only-of-type {\n",
              "        vertical-align: middle;\n",
              "    }\n",
              "\n",
              "    .dataframe tbody tr th {\n",
              "        vertical-align: top;\n",
              "    }\n",
              "\n",
              "    .dataframe thead th {\n",
              "        text-align: right;\n",
              "    }\n",
              "</style>\n",
              "<table border=\"1\" class=\"dataframe\">\n",
              "  <thead>\n",
              "    <tr style=\"text-align: right;\">\n",
              "      <th></th>\n",
              "      <th>max_temp</th>\n",
              "      <th>min_temp</th>\n",
              "      <th>avg_temp</th>\n",
              "      <th>precipitation</th>\n",
              "      <th>snowfall</th>\n",
              "      <th>snowdepth</th>\n",
              "    </tr>\n",
              "  </thead>\n",
              "  <tbody>\n",
              "    <tr>\n",
              "      <th>count</th>\n",
              "      <td>2167.000000</td>\n",
              "      <td>2170.000000</td>\n",
              "      <td>2160.000000</td>\n",
              "      <td>2208.000000</td>\n",
              "      <td>2198.000000</td>\n",
              "      <td>2174.000000</td>\n",
              "    </tr>\n",
              "    <tr>\n",
              "      <th>mean</th>\n",
              "      <td>36.191970</td>\n",
              "      <td>18.410138</td>\n",
              "      <td>27.284028</td>\n",
              "      <td>0.111475</td>\n",
              "      <td>0.463889</td>\n",
              "      <td>2.503059</td>\n",
              "    </tr>\n",
              "    <tr>\n",
              "      <th>std</th>\n",
              "      <td>12.252389</td>\n",
              "      <td>12.755078</td>\n",
              "      <td>11.704472</td>\n",
              "      <td>0.228599</td>\n",
              "      <td>1.196003</td>\n",
              "      <td>4.282987</td>\n",
              "    </tr>\n",
              "    <tr>\n",
              "      <th>min</th>\n",
              "      <td>-6.000000</td>\n",
              "      <td>-26.000000</td>\n",
              "      <td>-15.000000</td>\n",
              "      <td>0.000000</td>\n",
              "      <td>0.000000</td>\n",
              "      <td>0.000000</td>\n",
              "    </tr>\n",
              "    <tr>\n",
              "      <th>25%</th>\n",
              "      <td>28.000000</td>\n",
              "      <td>10.000000</td>\n",
              "      <td>19.375000</td>\n",
              "      <td>0.000000</td>\n",
              "      <td>0.000000</td>\n",
              "      <td>0.000000</td>\n",
              "    </tr>\n",
              "    <tr>\n",
              "      <th>50%</th>\n",
              "      <td>36.000000</td>\n",
              "      <td>20.000000</td>\n",
              "      <td>28.000000</td>\n",
              "      <td>0.010000</td>\n",
              "      <td>0.000000</td>\n",
              "      <td>1.000000</td>\n",
              "    </tr>\n",
              "    <tr>\n",
              "      <th>75%</th>\n",
              "      <td>44.000000</td>\n",
              "      <td>28.000000</td>\n",
              "      <td>35.125000</td>\n",
              "      <td>0.120000</td>\n",
              "      <td>0.500000</td>\n",
              "      <td>3.000000</td>\n",
              "    </tr>\n",
              "    <tr>\n",
              "      <th>max</th>\n",
              "      <td>75.000000</td>\n",
              "      <td>51.000000</td>\n",
              "      <td>60.000000</td>\n",
              "      <td>2.560000</td>\n",
              "      <td>21.000000</td>\n",
              "      <td>30.000000</td>\n",
              "    </tr>\n",
              "  </tbody>\n",
              "</table>\n",
              "</div>"
            ]
          },
          "metadata": {},
          "execution_count": 6
        }
      ],
      "metadata": {}
    },
    {
      "cell_type": "code",
      "execution_count": 7,
      "source": [
        "weather_data['date'].apply(lambda x: type(x) == str).all()"
      ],
      "outputs": [
        {
          "output_type": "execute_result",
          "data": {
            "text/plain": [
              "True"
            ]
          },
          "metadata": {},
          "execution_count": 7
        }
      ],
      "metadata": {}
    },
    {
      "cell_type": "code",
      "execution_count": 8,
      "source": [
        "phil_data.info()\n",
        "phil_data.describe()"
      ],
      "outputs": [
        {
          "output_type": "stream",
          "name": "stdout",
          "text": [
            "<class 'pandas.core.frame.DataFrame'>\n",
            "RangeIndex: 60 entries, 0 to 59\n",
            "Data columns (total 2 columns):\n",
            " #   Column      Non-Null Count  Dtype\n",
            "---  ------      --------------  -----\n",
            " 0   year        60 non-null     int64\n",
            " 1   prediction  60 non-null     bool \n",
            "dtypes: bool(1), int64(1)\n",
            "memory usage: 668.0 bytes\n"
          ]
        },
        {
          "output_type": "execute_result",
          "data": {
            "text/plain": [
              "              year\n",
              "count    60.000000\n",
              "mean   1984.266667\n",
              "std      21.866984\n",
              "min    1947.000000\n",
              "25%    1966.750000\n",
              "50%    1983.500000\n",
              "75%    2003.250000\n",
              "max    2021.000000"
            ],
            "text/html": [
              "<div>\n",
              "<style scoped>\n",
              "    .dataframe tbody tr th:only-of-type {\n",
              "        vertical-align: middle;\n",
              "    }\n",
              "\n",
              "    .dataframe tbody tr th {\n",
              "        vertical-align: top;\n",
              "    }\n",
              "\n",
              "    .dataframe thead th {\n",
              "        text-align: right;\n",
              "    }\n",
              "</style>\n",
              "<table border=\"1\" class=\"dataframe\">\n",
              "  <thead>\n",
              "    <tr style=\"text-align: right;\">\n",
              "      <th></th>\n",
              "      <th>year</th>\n",
              "    </tr>\n",
              "  </thead>\n",
              "  <tbody>\n",
              "    <tr>\n",
              "      <th>count</th>\n",
              "      <td>60.000000</td>\n",
              "    </tr>\n",
              "    <tr>\n",
              "      <th>mean</th>\n",
              "      <td>1984.266667</td>\n",
              "    </tr>\n",
              "    <tr>\n",
              "      <th>std</th>\n",
              "      <td>21.866984</td>\n",
              "    </tr>\n",
              "    <tr>\n",
              "      <th>min</th>\n",
              "      <td>1947.000000</td>\n",
              "    </tr>\n",
              "    <tr>\n",
              "      <th>25%</th>\n",
              "      <td>1966.750000</td>\n",
              "    </tr>\n",
              "    <tr>\n",
              "      <th>50%</th>\n",
              "      <td>1983.500000</td>\n",
              "    </tr>\n",
              "    <tr>\n",
              "      <th>75%</th>\n",
              "      <td>2003.250000</td>\n",
              "    </tr>\n",
              "    <tr>\n",
              "      <th>max</th>\n",
              "      <td>2021.000000</td>\n",
              "    </tr>\n",
              "  </tbody>\n",
              "</table>\n",
              "</div>"
            ]
          },
          "metadata": {},
          "execution_count": 8
        }
      ],
      "metadata": {}
    },
    {
      "cell_type": "code",
      "execution_count": 9,
      "source": [
        "spring_data.info()\n",
        "spring_data.describe()"
      ],
      "outputs": [
        {
          "output_type": "stream",
          "name": "stdout",
          "text": [
            "<class 'pandas.core.frame.DataFrame'>\n",
            "RangeIndex: 67 entries, 0 to 66\n",
            "Data columns (total 2 columns):\n",
            " #   Column        Non-Null Count  Dtype\n",
            "---  ------        --------------  -----\n",
            " 0   year          67 non-null     int64\n",
            " 1   early_spring  67 non-null     bool \n",
            "dtypes: bool(1), int64(1)\n",
            "memory usage: 731.0 bytes\n"
          ]
        },
        {
          "output_type": "execute_result",
          "data": {
            "text/plain": [
              "              year\n",
              "count    67.000000\n",
              "mean   1983.059701\n",
              "std      22.206934\n",
              "min    1947.000000\n",
              "25%    1964.500000\n",
              "50%    1982.000000\n",
              "75%    2002.500000\n",
              "max    2021.000000"
            ],
            "text/html": [
              "<div>\n",
              "<style scoped>\n",
              "    .dataframe tbody tr th:only-of-type {\n",
              "        vertical-align: middle;\n",
              "    }\n",
              "\n",
              "    .dataframe tbody tr th {\n",
              "        vertical-align: top;\n",
              "    }\n",
              "\n",
              "    .dataframe thead th {\n",
              "        text-align: right;\n",
              "    }\n",
              "</style>\n",
              "<table border=\"1\" class=\"dataframe\">\n",
              "  <thead>\n",
              "    <tr style=\"text-align: right;\">\n",
              "      <th></th>\n",
              "      <th>year</th>\n",
              "    </tr>\n",
              "  </thead>\n",
              "  <tbody>\n",
              "    <tr>\n",
              "      <th>count</th>\n",
              "      <td>67.000000</td>\n",
              "    </tr>\n",
              "    <tr>\n",
              "      <th>mean</th>\n",
              "      <td>1983.059701</td>\n",
              "    </tr>\n",
              "    <tr>\n",
              "      <th>std</th>\n",
              "      <td>22.206934</td>\n",
              "    </tr>\n",
              "    <tr>\n",
              "      <th>min</th>\n",
              "      <td>1947.000000</td>\n",
              "    </tr>\n",
              "    <tr>\n",
              "      <th>25%</th>\n",
              "      <td>1964.500000</td>\n",
              "    </tr>\n",
              "    <tr>\n",
              "      <th>50%</th>\n",
              "      <td>1982.000000</td>\n",
              "    </tr>\n",
              "    <tr>\n",
              "      <th>75%</th>\n",
              "      <td>2002.500000</td>\n",
              "    </tr>\n",
              "    <tr>\n",
              "      <th>max</th>\n",
              "      <td>2021.000000</td>\n",
              "    </tr>\n",
              "  </tbody>\n",
              "</table>\n",
              "</div>"
            ]
          },
          "metadata": {},
          "execution_count": 9
        }
      ],
      "metadata": {}
    },
    {
      "cell_type": "markdown",
      "source": [
        "**9. Sample a test set, put it aside, and never look at it (no data snooping!)**  "
      ],
      "metadata": {}
    },
    {
      "cell_type": "code",
      "execution_count": 29,
      "source": [
        "\"\"\"\n",
        "weather_data['date'] = pd.to_datetime(weather_data['date'])\n",
        "\n",
        "weather_data = weather_data.set_index(weather_data['date'])\n",
        "\n",
        "for y in range(1947, 2021 + 1):\n",
        "    y = str(y)\n",
        "    date_range = pd.date_range('01-01-' + y, '02-02-' + y)\n",
        "    weather_data.reindex(date_range, fill_value=None)\n",
        "\"\"\""
      ],
      "outputs": [],
      "metadata": {}
    },
    {
      "cell_type": "code",
      "execution_count": 34,
      "source": [
        "weather_data.info()"
      ],
      "outputs": [
        {
          "output_type": "stream",
          "name": "stdout",
          "text": [
            "<class 'pandas.core.frame.DataFrame'>\n",
            "DatetimeIndex: 2211 entries, 1947-01-01 to 2021-02-02\n",
            "Data columns (total 7 columns):\n",
            " #   Column         Non-Null Count  Dtype         \n",
            "---  ------         --------------  -----         \n",
            " 0   date           2211 non-null   datetime64[ns]\n",
            " 1   max_temp       2167 non-null   float64       \n",
            " 2   min_temp       2170 non-null   float64       \n",
            " 3   avg_temp       2160 non-null   float64       \n",
            " 4   precipitation  2208 non-null   float64       \n",
            " 5   snowfall       2198 non-null   float64       \n",
            " 6   snowdepth      2174 non-null   float64       \n",
            "dtypes: datetime64[ns](1), float64(6)\n",
            "memory usage: 202.7 KB\n"
          ]
        }
      ],
      "metadata": {}
    },
    {
      "cell_type": "code",
      "execution_count": null,
      "source": [
        "train_set, test_set = train_test_split(weather_data, test_size=0.1, random_state=265)"
      ],
      "outputs": [],
      "metadata": {}
    },
    {
      "cell_type": "markdown",
      "source": [
        "Explore the Data\n",
        "--"
      ],
      "metadata": {}
    },
    {
      "cell_type": "markdown",
      "source": [
        "**1. Copy the data for exploration, downsampling to a manageable size if necessary.**  \n",
        "\n",
        "**2. Study each attribute and its characteristics: Name; Type (categorical, numerical, \n",
        "bounded, text, structured, ...); % of missing values; Noisiness and type of noise (stochastic, outliers, rounding errors, ...); \n",
        "Usefulness for the task; Type of distribution (Gaussian, uniform, logarithmic, ...)**  \n",
        "\n",
        "**3. For supervised learning tasks, identify the target attribute(s)**  \n",
        "\n",
        "**4. Visualize the data**  \n",
        "\n",
        "**5. Study the correlations between attributes**  \n",
        "\n",
        "**6. Study how you would solve the problem manually**  \n",
        "\n",
        "**7. Identify the promising transformations you may want to apply**  \n",
        "\n",
        "**8. Identify extra data that would be useful (go back to “Get the Data”)**  \n",
        "\n",
        "**9. Document what you have learned**  \n",
        "We have 263 rows of data missing."
      ],
      "metadata": {}
    },
    {
      "cell_type": "code",
      "execution_count": null,
      "source": [
        "def read_temperature_data(filename):\n",
        "    \"\"\"\n",
        "    Reads temperature data from the given file. M values are assumed to be\n",
        "    missing values (returned as nan). T values are trace values and returned as\n",
        "    0.0025 inches for precipitation and snowfall and 0.025 inches for snowdepth\n",
        "    (see https://www.chicagotribune.com/news/weather/ct-wea-asktom-0415-20180413-column.html).\n",
        "    \"\"\"\n",
        "    def convert_precipitation(raw):\n",
        "        return 0.0025 if raw == 'T' else np.nan if raw == 'M' else pd.to_numeric(raw)\n",
        "    def convert_depth(raw):\n",
        "        return 0.025 if raw == 'T' else np.nan if raw == 'M' else pd.to_numeric(raw)\n",
        "    return pd.read_csv(filename, na_values=['M'], parse_dates=[0],\n",
        "        converters={\n",
        "            \"precipitation\":convert_precipitation,\n",
        "            \"snowfall\":convert_precipitation,\n",
        "            \"snowdepth\":convert_depth,\n",
        "        })"
      ],
      "outputs": [],
      "metadata": {}
    }
  ],
  "metadata": {
    "colab": {
      "name": "PROJ2 - Early Spring",
      "provenance": [],
      "version": "0.3.2"
    },
    "interpreter": {
      "hash": "397704579725e15f5c7cb49fe5f0341eb7531c82d19f2c29d197e8b64ab5776b"
    },
    "kernelspec": {
      "name": "python3",
      "display_name": "Python 3.9.7 64-bit"
    },
    "language_info": {
      "codemirror_mode": {
        "name": "ipython",
        "version": 3
      },
      "file_extension": ".py",
      "mimetype": "text/x-python",
      "name": "python",
      "nbconvert_exporter": "python",
      "pygments_lexer": "ipython3",
      "version": "3.9.7"
    }
  },
  "nbformat": 4,
  "nbformat_minor": 2
}